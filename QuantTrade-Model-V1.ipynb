{
 "cells": [
  {
   "cell_type": "code",
   "execution_count": 6,
   "id": "4c320316",
   "metadata": {},
   "outputs": [
    {
     "name": "stdout",
     "output_type": "stream",
     "text": [
      "                Open time      Close\n",
      "0     2025-05-23 15:40:00  109491.76\n",
      "1     2025-05-23 15:45:00  109311.95\n",
      "2     2025-05-23 15:50:00  109266.63\n",
      "3     2025-05-23 15:55:00  108940.00\n",
      "4     2025-05-23 16:00:00  108911.20\n",
      "...                   ...        ...\n",
      "25831 2025-08-21 08:15:00  113765.62\n",
      "25832 2025-08-21 08:20:00  113809.50\n",
      "25833 2025-08-21 08:25:00  113760.01\n",
      "25834 2025-08-21 08:30:00  113780.33\n",
      "25835 2025-08-21 08:35:00  113734.22\n",
      "\n",
      "[25836 rows x 2 columns]\n"
     ]
    }
   ],
   "source": [
    "import os\n",
    "from datetime import datetime, timedelta\n",
    "import pandas as pd\n",
    "from binance.client import Client\n",
    "from dotenv import load_dotenv\n",
    "\n",
    "load_dotenv()\n",
    "api_key = os.getenv(\"API_KEY\")\n",
    "api_secret = os.getenv(\"API_SECRET\")\n",
    "\n",
    "client = Client(api_key, api_secret)\n",
    "\n",
    "three_months_ago = datetime.now() - timedelta(days=90)\n",
    "\n",
    "klines = client.get_historical_klines(\n",
    "    symbol='BTCUSDT',\n",
    "    interval=Client.KLINE_INTERVAL_5MINUTE,\n",
    "    start_str=three_months_ago.strftime(\"%Y-%m-%d %H:%M:%S\")\n",
    ")\n",
    "\n",
    "df = pd.DataFrame(klines, columns=[\n",
    "    'Open time', 'Open', 'High', 'Low', 'Close', 'Volume', 'Close time',\n",
    "    'Quote asset volume', 'Number of trades', 'Taker buy base asset volume',\n",
    "    'Taker buy quote asset volume', 'Ignore'\n",
    "])\n",
    "\n",
    "df['Open time'] = pd.to_datetime(df['Open time'], unit='ms')\n",
    "price_df = df[['Open time', 'Close']].copy()\n",
    "price_df['Close'] = pd.to_numeric(price_df['Close'])\n",
    "\n",
    "print(price_df)"
   ]
  }
 ],
 "metadata": {
  "kernelspec": {
   "display_name": "Python 3",
   "language": "python",
   "name": "python3"
  },
  "language_info": {
   "codemirror_mode": {
    "name": "ipython",
    "version": 3
   },
   "file_extension": ".py",
   "mimetype": "text/x-python",
   "name": "python",
   "nbconvert_exporter": "python",
   "pygments_lexer": "ipython3",
   "version": "3.11.0"
  }
 },
 "nbformat": 4,
 "nbformat_minor": 5
}
